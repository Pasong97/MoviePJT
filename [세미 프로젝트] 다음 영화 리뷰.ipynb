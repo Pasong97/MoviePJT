{
 "cells": [
  {
   "cell_type": "markdown",
   "id": "a253f0cb",
   "metadata": {},
   "source": [
    "### 1. 환경 설정"
   ]
  },
  {
   "cell_type": "code",
   "execution_count": 121,
   "id": "da61ed13",
   "metadata": {},
   "outputs": [],
   "source": [
    "from selenium import webdriver\n",
    "from selenium.webdriver.chrome.service import Service\n",
    "from webdriver_manager.chrome import ChromeDriverManager\n",
    "from selenium.webdriver.common.by import By\n",
    "from selenium.webdriver.common.keys import Keys\n",
    "import pandas as pd\n",
    "import time\n",
    "import re\n",
    "\n",
    "chrome_options = webdriver.ChromeOptions()\n",
    "driver = webdriver.Chrome(service=Service(ChromeDriverManager().install()), options=chrome_options)\n",
    "\n",
    "time.sleep(0.2)"
   ]
  },
  {
   "cell_type": "markdown",
   "id": "d7f4789d",
   "metadata": {},
   "source": [
    "### 2. 역대 박스오피스 불러오기(1~100)"
   ]
  },
  {
   "cell_type": "code",
   "execution_count": 122,
   "id": "6ed804f0",
   "metadata": {
    "scrolled": true
   },
   "outputs": [],
   "source": [
    "data = pd.read_csv('KOBIS_TOP100.csv')\n",
    "m_list = data['영화명'].astype('string').tolist()\n",
    "m_year = data['링크연도'].astype('string').tolist()"
   ]
  },
  {
   "cell_type": "code",
   "execution_count": 123,
   "id": "9bd1904a",
   "metadata": {},
   "outputs": [],
   "source": [
    "m_year[6] = '2014'      # 다음에서 베테랑 \n",
    "m_year[14] = '2018'     # 다음에서 신과함께 - 인과연\n",
    "m_year[34] = '2013'     # 다음에서 수상한 그녀\n",
    "m_year[74] = '2014'     # 다음에서 킹스맨:시크릿 에이전트"
   ]
  },
  {
   "cell_type": "markdown",
   "id": "423377ed",
   "metadata": {},
   "source": [
    "### 3. 함수 설정"
   ]
  },
  {
   "cell_type": "code",
   "execution_count": 124,
   "id": "99761138",
   "metadata": {},
   "outputs": [],
   "source": [
    "# 평점 더 보기 클릭 \n",
    "def review_more_click(more_num):\n",
    "    more_cnt = 0\n",
    "    \n",
    "    while True:\n",
    "        driver.find_element(By.CSS_SELECTOR, '#alex-area > div > div > div > div.cmt_box > div.alex_more > button').click()\n",
    "        \n",
    "        time.sleep(0.5)\n",
    "        \n",
    "        more_cnt += 1\n",
    "        if more_cnt == more_num:\n",
    "            break"
   ]
  },
  {
   "cell_type": "markdown",
   "id": "adcd4cc1",
   "metadata": {},
   "source": [
    "### 4. 영화마다 자동으로 리뷰 읽어오기"
   ]
  },
  {
   "cell_type": "code",
   "execution_count": 126,
   "id": "b12c5fa6",
   "metadata": {
    "scrolled": true
   },
   "outputs": [
    {
     "name": "stdout",
     "output_type": "stream",
     "text": [
      "--- 영화 명량(2014)를 검색합니다. >>> 해당 페이지로 이동합니다.\n",
      "Start!> 10 > 20 > 30 > 40 > 50 > END!\n",
      "박스오피스 랭킹 1위. 명량의 리뷰 50개를 모두 수집했습니다.\n",
      "--------------------------------------------------------------------------------\n",
      "--- 영화 극한직업(2018)를 검색합니다. "
     ]
    },
    {
     "ename": "ElementClickInterceptedException",
     "evalue": "Message: element click intercepted: Element <a href=\"javascript:\" class=\"link_search\">...</a> is not clickable at point (1493, 87). Other element would receive the click: <ul class=\"list_tabmenu\" role=\"tablist\" data-tiara-layer=\"tab\">...</ul>\n  (Session info: chrome=108.0.5359.125)\nStacktrace:\nBacktrace:\n\t(No symbol) [0x004FF243]\n\t(No symbol) [0x00487FD1]\n\t(No symbol) [0x0037D04D]\n\t(No symbol) [0x003B28B9]\n\t(No symbol) [0x003B08CC]\n\t(No symbol) [0x003AE4CB]\n\t(No symbol) [0x003AD164]\n\t(No symbol) [0x003A32A6]\n\t(No symbol) [0x003C858C]\n\t(No symbol) [0x003A2BFF]\n\t(No symbol) [0x003C8804]\n\t(No symbol) [0x003DC9EB]\n\t(No symbol) [0x003C8386]\n\t(No symbol) [0x003A163C]\n\t(No symbol) [0x003A269D]\n\tGetHandleVerifier [0x00799A22+2655074]\n\tGetHandleVerifier [0x0078CA24+2601828]\n\tGetHandleVerifier [0x005A8C0A+619850]\n\tGetHandleVerifier [0x005A7830+614768]\n\t(No symbol) [0x004905FC]\n\t(No symbol) [0x00495968]\n\t(No symbol) [0x00495A55]\n\t(No symbol) [0x004A051B]\n\tBaseThreadInitThunk [0x754CFE09+25]\n\tRtlGetAppContainerNamedObjectPath [0x776F662D+237]\n\tRtlGetAppContainerNamedObjectPath [0x776F65FD+189]\n",
     "output_type": "error",
     "traceback": [
      "\u001b[1;31m---------------------------------------------------------------------------\u001b[0m",
      "\u001b[1;31mElementClickInterceptedException\u001b[0m          Traceback (most recent call last)",
      "File \u001b[1;32m<timed exec>:20\u001b[0m, in \u001b[0;36m<module>\u001b[1;34m\u001b[0m\n",
      "File \u001b[1;32m~\\anaconda3\\envs\\nlp_py38\\lib\\site-packages\\selenium\\webdriver\\remote\\webelement.py:93\u001b[0m, in \u001b[0;36mWebElement.click\u001b[1;34m(self)\u001b[0m\n\u001b[0;32m     91\u001b[0m \u001b[38;5;28;01mdef\u001b[39;00m \u001b[38;5;21mclick\u001b[39m(\u001b[38;5;28mself\u001b[39m) \u001b[38;5;241m-\u001b[39m\u001b[38;5;241m>\u001b[39m \u001b[38;5;28;01mNone\u001b[39;00m:\n\u001b[0;32m     92\u001b[0m     \u001b[38;5;124;03m\"\"\"Clicks the element.\"\"\"\u001b[39;00m\n\u001b[1;32m---> 93\u001b[0m     \u001b[38;5;28;43mself\u001b[39;49m\u001b[38;5;241;43m.\u001b[39;49m\u001b[43m_execute\u001b[49m\u001b[43m(\u001b[49m\u001b[43mCommand\u001b[49m\u001b[38;5;241;43m.\u001b[39;49m\u001b[43mCLICK_ELEMENT\u001b[49m\u001b[43m)\u001b[49m\n",
      "File \u001b[1;32m~\\anaconda3\\envs\\nlp_py38\\lib\\site-packages\\selenium\\webdriver\\remote\\webelement.py:410\u001b[0m, in \u001b[0;36mWebElement._execute\u001b[1;34m(self, command, params)\u001b[0m\n\u001b[0;32m    408\u001b[0m     params \u001b[38;5;241m=\u001b[39m {}\n\u001b[0;32m    409\u001b[0m params[\u001b[38;5;124m\"\u001b[39m\u001b[38;5;124mid\u001b[39m\u001b[38;5;124m\"\u001b[39m] \u001b[38;5;241m=\u001b[39m \u001b[38;5;28mself\u001b[39m\u001b[38;5;241m.\u001b[39m_id\n\u001b[1;32m--> 410\u001b[0m \u001b[38;5;28;01mreturn\u001b[39;00m \u001b[38;5;28;43mself\u001b[39;49m\u001b[38;5;241;43m.\u001b[39;49m\u001b[43m_parent\u001b[49m\u001b[38;5;241;43m.\u001b[39;49m\u001b[43mexecute\u001b[49m\u001b[43m(\u001b[49m\u001b[43mcommand\u001b[49m\u001b[43m,\u001b[49m\u001b[43m \u001b[49m\u001b[43mparams\u001b[49m\u001b[43m)\u001b[49m\n",
      "File \u001b[1;32m~\\anaconda3\\envs\\nlp_py38\\lib\\site-packages\\selenium\\webdriver\\remote\\webdriver.py:444\u001b[0m, in \u001b[0;36mWebDriver.execute\u001b[1;34m(self, driver_command, params)\u001b[0m\n\u001b[0;32m    442\u001b[0m response \u001b[38;5;241m=\u001b[39m \u001b[38;5;28mself\u001b[39m\u001b[38;5;241m.\u001b[39mcommand_executor\u001b[38;5;241m.\u001b[39mexecute(driver_command, params)\n\u001b[0;32m    443\u001b[0m \u001b[38;5;28;01mif\u001b[39;00m response:\n\u001b[1;32m--> 444\u001b[0m     \u001b[38;5;28;43mself\u001b[39;49m\u001b[38;5;241;43m.\u001b[39;49m\u001b[43merror_handler\u001b[49m\u001b[38;5;241;43m.\u001b[39;49m\u001b[43mcheck_response\u001b[49m\u001b[43m(\u001b[49m\u001b[43mresponse\u001b[49m\u001b[43m)\u001b[49m\n\u001b[0;32m    445\u001b[0m     response[\u001b[38;5;124m\"\u001b[39m\u001b[38;5;124mvalue\u001b[39m\u001b[38;5;124m\"\u001b[39m] \u001b[38;5;241m=\u001b[39m \u001b[38;5;28mself\u001b[39m\u001b[38;5;241m.\u001b[39m_unwrap_value(response\u001b[38;5;241m.\u001b[39mget(\u001b[38;5;124m\"\u001b[39m\u001b[38;5;124mvalue\u001b[39m\u001b[38;5;124m\"\u001b[39m, \u001b[38;5;28;01mNone\u001b[39;00m))\n\u001b[0;32m    446\u001b[0m     \u001b[38;5;28;01mreturn\u001b[39;00m response\n",
      "File \u001b[1;32m~\\anaconda3\\envs\\nlp_py38\\lib\\site-packages\\selenium\\webdriver\\remote\\errorhandler.py:249\u001b[0m, in \u001b[0;36mErrorHandler.check_response\u001b[1;34m(self, response)\u001b[0m\n\u001b[0;32m    247\u001b[0m         alert_text \u001b[38;5;241m=\u001b[39m value[\u001b[38;5;124m\"\u001b[39m\u001b[38;5;124malert\u001b[39m\u001b[38;5;124m\"\u001b[39m]\u001b[38;5;241m.\u001b[39mget(\u001b[38;5;124m\"\u001b[39m\u001b[38;5;124mtext\u001b[39m\u001b[38;5;124m\"\u001b[39m)\n\u001b[0;32m    248\u001b[0m     \u001b[38;5;28;01mraise\u001b[39;00m exception_class(message, screen, stacktrace, alert_text)  \u001b[38;5;66;03m# type: ignore[call-arg]  # mypy is not smart enough here\u001b[39;00m\n\u001b[1;32m--> 249\u001b[0m \u001b[38;5;28;01mraise\u001b[39;00m exception_class(message, screen, stacktrace)\n",
      "\u001b[1;31mElementClickInterceptedException\u001b[0m: Message: element click intercepted: Element <a href=\"javascript:\" class=\"link_search\">...</a> is not clickable at point (1493, 87). Other element would receive the click: <ul class=\"list_tabmenu\" role=\"tablist\" data-tiara-layer=\"tab\">...</ul>\n  (Session info: chrome=108.0.5359.125)\nStacktrace:\nBacktrace:\n\t(No symbol) [0x004FF243]\n\t(No symbol) [0x00487FD1]\n\t(No symbol) [0x0037D04D]\n\t(No symbol) [0x003B28B9]\n\t(No symbol) [0x003B08CC]\n\t(No symbol) [0x003AE4CB]\n\t(No symbol) [0x003AD164]\n\t(No symbol) [0x003A32A6]\n\t(No symbol) [0x003C858C]\n\t(No symbol) [0x003A2BFF]\n\t(No symbol) [0x003C8804]\n\t(No symbol) [0x003DC9EB]\n\t(No symbol) [0x003C8386]\n\t(No symbol) [0x003A163C]\n\t(No symbol) [0x003A269D]\n\tGetHandleVerifier [0x00799A22+2655074]\n\tGetHandleVerifier [0x0078CA24+2601828]\n\tGetHandleVerifier [0x005A8C0A+619850]\n\tGetHandleVerifier [0x005A7830+614768]\n\t(No symbol) [0x004905FC]\n\t(No symbol) [0x00495968]\n\t(No symbol) [0x00495A55]\n\t(No symbol) [0x004A051B]\n\tBaseThreadInitThunk [0x754CFE09+25]\n\tRtlGetAppContainerNamedObjectPath [0x776F662D+237]\n\tRtlGetAppContainerNamedObjectPath [0x776F65FD+189]\n"
     ]
    }
   ],
   "source": [
    "%%time\n",
    "# 다음 영화 사이트 열기\n",
    "driver.get('https://movie.daum.net/main/')\n",
    "\n",
    "review_num = 50\n",
    "more_num = 18     \n",
    "review_lst = []\n",
    "movie_rank = 0\n",
    "is_first = 1\n",
    "\n",
    "for movie, year in zip(m_list[:10], m_year[:10]):\n",
    "    # 위로 올라가기 클릭\n",
    "    driver.find_element(By.CLASS_NAME, 'inner_top').click()\n",
    "    \n",
    "    # 검색어 입력\n",
    "    print(f'--- 영화 {movie}({year})를 검색합니다.', end=' ')\n",
    "    \n",
    "    if is_first == 1:\n",
    "        input_box = driver.find_element(By.CSS_SELECTOR, 'input.tf_keyword')\n",
    "    else: \n",
    "        driver.find_element(By.CLASS_NAME, 'link_search').click()\n",
    "        input_box = driver.find_element(By.CSS_SELECTOR, 'body > div.kakao_wrap.detail_type > header > div.kakaohead_menu > div > div > form > fieldset > div > input')\n",
    "\n",
    "    input_box.send_keys(movie)            # 입력\n",
    "    input_box.send_keys(Keys.ENTER)         # Enter\n",
    "    # input_box.clear()                     # 입력된 내용 지우기\n",
    "    time.sleep(0.5)\n",
    "    \n",
    "    # 해당 영화 사이트로 이동하기\n",
    "    driver.find_element(By.CLASS_NAME, 'movie').click()             # 영화 탭 클릭\n",
    "    time.sleep(0.5)\n",
    "    \n",
    "    search_lst = driver.find_elements(By.CSS_SELECTOR, '#mainContent > div > div.box_searchinfo > div.detail_searchinfo.movie.search_result > ul > li')\n",
    "    keyword = re.sub('[^0-9가-힣]', '', str(movie))       # 영화명 공백 및 특수문자 제거\n",
    "    for search in search_lst:\n",
    "        title_link = search.find_element(By.CSS_SELECTOR, 'div > div > strong > a')\n",
    "        title = re.sub('[^0-9가-힣]', \"\", title_link.text.split('(')[0])\n",
    "        # print(title)\n",
    "        title_year = search.find_element(By.CSS_SELECTOR, 'div > div > dl > dd').text\n",
    "        # print(title_year, type(title_year), year, type(year))\n",
    "        if (title == keyword) & (title_year == year):\n",
    "            # print([title, year])\n",
    "            title_link.click()\n",
    "            print(f'>>> 해당 페이지로 이동합니다.')\n",
    "            break\n",
    "    time.sleep(0.5)\n",
    "    \n",
    "    # 평점 탭 클릭\n",
    "    sel = 'div.tabmenu_wrap > ul > li > a > span'\n",
    "    driver.find_elements(By.CSS_SELECTOR, sel)[3].click()\n",
    "    time.sleep(0.5)\n",
    "\n",
    "    # 정렬 '최신순' 선택하기\n",
    "    sel2 = '#alex-area > div > div > div > div.cmt_box > ul.list_category > li:nth-child(3) > button'\n",
    "    driver.find_element(By.CSS_SELECTOR, sel2).click()\n",
    "    time.sleep(0.5)\n",
    "    \n",
    "    # 평점 더보기 클릭하기\n",
    "    review_more_click(more_num)\n",
    "    \n",
    "    # 한 페이지의 리뷰 전체 불러오기\n",
    "    sel3 = '#alex-area > div > div > div > div.cmt_box > ul.list_comment > li'\n",
    "    reviews = driver.find_elements(By.CSS_SELECTOR, sel3)\n",
    "\n",
    "    review_cnt = 0\n",
    "    print('Start!', end='')    \n",
    "    for review in reviews:\n",
    "        id = review.find_element(By.CSS_SELECTOR, 'div > strong > span > a').text\n",
    "        \n",
    "        # 중복인 게시글 건너뛰기\n",
    "        if is_first == 0:\n",
    "            if id == review_lst[-1][1]:\n",
    "                continue\n",
    "        else:\n",
    "            pass\n",
    "        \n",
    "        # 평점 읽어오기 \n",
    "        score = review.find_element(By.CSS_SELECTOR, 'div > div').text\n",
    "        \n",
    "        # 리뷰 읽어오기\n",
    "        try:\n",
    "            text = review.find_element(By.CSS_SELECTOR, 'div > p').text\n",
    "            if len(text) == 1:          # 성의 없는 댓글(.)은 읽지 않기 \n",
    "                continue\n",
    "        except:\n",
    "            continue\n",
    "        \n",
    "        # 데이터셋 만들기 \n",
    "        review_lst.append([movie, text, score])\n",
    "        review_cnt += 1\n",
    "        \n",
    "        # 메세지 출력\n",
    "        if review_cnt % 10 == 0:\n",
    "            if review_cnt != 10 and review_cnt % 100 == 10:\n",
    "                print(f'\\n> {review_cnt}', end=' ')\n",
    "            else:\n",
    "                print(f'> {review_cnt}', end=' ')\n",
    "        \n",
    "        if review_cnt == review_num:\n",
    "            print('> END!')\n",
    "            break\n",
    "        \n",
    "    # 영화 하나 끝남 메시지 출력\n",
    "    is_first = 0\n",
    "    movie_rank += 1\n",
    "    print(f'박스오피스 랭킹 {movie_rank}위. {movie}의 리뷰 {review_cnt}개를 모두 수집했습니다.')\n",
    "    print('-'*80)"
   ]
  },
  {
   "cell_type": "code",
   "execution_count": null,
   "id": "71d8a5ef",
   "metadata": {},
   "outputs": [],
   "source": []
  }
 ],
 "metadata": {
  "kernelspec": {
   "display_name": "Python 3 (ipykernel)",
   "language": "python",
   "name": "python3"
  },
  "language_info": {
   "codemirror_mode": {
    "name": "ipython",
    "version": 3
   },
   "file_extension": ".py",
   "mimetype": "text/x-python",
   "name": "python",
   "nbconvert_exporter": "python",
   "pygments_lexer": "ipython3",
   "version": "3.8.13"
  }
 },
 "nbformat": 4,
 "nbformat_minor": 5
}
